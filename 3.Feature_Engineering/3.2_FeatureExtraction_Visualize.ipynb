{
  "cells": [
    {
      "attachments": {},
      "cell_type": "markdown",
      "metadata": {
        "id": "_JslPhsxK91a"
      },
      "source": [
        "# Importing packages"
      ]
    },
    {
      "cell_type": "code",
      "execution_count": null,
      "metadata": {
        "metadata": {}
      },
      "outputs": [],
      "source": [
        "from scipy.stats import kurtosis\n",
        "from scipy.signal import lfilter\n",
        "#from nitime.algorithms.autoregressive import AR_est_YW\n",
        "import numpy as np\n",
        "import pandas as pd\n",
        "import matplotlib.pyplot as plt\n",
        "import sys\n",
        "sys.path.append('..')\n",
        "sys.path.append('../utils/')\n",
        "from utils.EDA import*"
      ]
    },
    {
      "cell_type": "code",
      "execution_count": null,
      "metadata": {
        "metadata": {}
      },
      "outputs": [],
      "source": [
        "plt.style.use('default')\n",
        "\n",
        "plt.rcParams.update({\n",
        "    'font.size': 20,\n",
        "    'axes.linewidth': 2,\n",
        "    'axes.titlesize': 20,\n",
        "    'axes.edgecolor': 'black',\n",
        "    'axes.labelsize': 18,\n",
        "    'axes.grid': True,\n",
        "    'lines.linewidth': 1.5,\n",
        "    'lines.markersize': 6,\n",
        "    'figure.figsize': (20, 8),\n",
        "    'xtick.labelsize': 16,\n",
        "    'ytick.labelsize': 16,\n",
        "    'font.family': 'Times New Roman',\n",
        "    'legend.fontsize': 13,\n",
        "    'legend.framealpha': 0.8,\n",
        "    'legend.edgecolor': 'black',\n",
        "    'legend.shadow': False,\n",
        "    'legend.fancybox': True,\n",
        "    'legend.frameon': True,\n",
        "})"
      ]
    },
    {
      "cell_type": "code",
      "execution_count": null,
      "metadata": {
        "metadata": {}
      },
      "outputs": [],
      "source": [
        "path_to_dataset = \"Datasets/M01_OP6_Features.parquet\"\n",
        "df = pd.read_parquet(path_to_dataset)"
      ]
    },
    {
      "cell_type": "code",
      "execution_count": null,
      "metadata": {
        "metadata": {}
      },
      "outputs": [],
      "source": [
        "df.columns"
      ]
    },
    {
      "cell_type": "markdown",
      "metadata": {},
      "source": [
        "# Visualizing the data after the FE step"
      ]
    },
    {
      "cell_type": "markdown",
      "metadata": {},
      "source": [
        "### 1. Rolling Mean"
      ]
    },
    {
      "cell_type": "code",
      "execution_count": null,
      "metadata": {},
      "outputs": [],
      "source": [
        "columns_to_plot = ['X_Rolling Mean', 'Y_Rolling Mean', 'Z_Rolling Mean']\n",
        "\n",
        "# Call the function to visualize these columns\n",
        "plot_selected_columns(df, process='OP06', machine='M01', columns_to_plot=columns_to_plot, decimation_factor=1)"
      ]
    },
    {
      "cell_type": "markdown",
      "metadata": {},
      "source": [
        "### 2. Rolling Variance"
      ]
    },
    {
      "cell_type": "code",
      "execution_count": null,
      "metadata": {
        "metadata": {}
      },
      "outputs": [],
      "source": [
        "columns_to_plot = ['X_Rolling Variance', 'Y_Rolling Variance', 'Z_Rolling Variance']\n",
        "\n",
        "# Call the function to visualize these columns\n",
        "plot_selected_columns(df, process='OP06', machine='M01', columns_to_plot=columns_to_plot, decimation_factor=1)"
      ]
    },
    {
      "cell_type": "code",
      "execution_count": null,
      "metadata": {
        "metadata": {}
      },
      "outputs": [],
      "source": [
        "plot_by_code_index_matplotlib(df, process='OP06', machine = 'M01',axis='Y_Rolling Variance', decimation_factor=1)"
      ]
    },
    {
      "cell_type": "markdown",
      "metadata": {},
      "source": [
        "### 3. Rolling Median"
      ]
    },
    {
      "cell_type": "code",
      "execution_count": null,
      "metadata": {},
      "outputs": [],
      "source": [
        "columns_to_plot = ['X_Rolling Median', 'Y_Rolling Median', 'Z_Rolling Median']\n",
        "\n",
        "# Call the function to visualize these columns\n",
        "plot_selected_columns(df, process='OP06', machine='M01', columns_to_plot=columns_to_plot, decimation_factor=1)"
      ]
    },
    {
      "cell_type": "markdown",
      "metadata": {},
      "source": [
        "### 4. Rolling Std"
      ]
    },
    {
      "cell_type": "code",
      "execution_count": null,
      "metadata": {},
      "outputs": [],
      "source": [
        "columns_to_plot = ['X_Rolling Std', 'Y_Rolling Std', 'Z_Rolling Std']\n",
        "\n",
        "# Call the function to visualize these columns\n",
        "plot_selected_columns(df, process='OP06', machine='M01', columns_to_plot=columns_to_plot, decimation_factor=1)"
      ]
    },
    {
      "cell_type": "markdown",
      "metadata": {},
      "source": [
        "### 5. Rolling RMS"
      ]
    },
    {
      "cell_type": "code",
      "execution_count": null,
      "metadata": {},
      "outputs": [],
      "source": [
        "columns_to_plot = ['X_Rolling RMS', 'Y_Rolling RMS', 'Z_Rolling RMS']\n",
        "\n",
        "# Call the function to visualize these columns\n",
        "plot_selected_columns(df, process='OP06', machine='M01', columns_to_plot=columns_to_plot, decimation_factor=1)"
      ]
    },
    {
      "cell_type": "markdown",
      "metadata": {},
      "source": [
        "### 6. Rolling Impulse factor"
      ]
    },
    {
      "cell_type": "code",
      "execution_count": null,
      "metadata": {},
      "outputs": [],
      "source": [
        "columns_to_plot = ['X_Rolling Impulse Factor', 'Y_Rolling Impulse Factor', 'Z_Rolling Impulse Factor']\n",
        "\n",
        "# Call the function to visualize these columns\n",
        "plot_selected_columns(df, process='OP06', machine='M01', columns_to_plot=columns_to_plot, decimation_factor=1)"
      ]
    },
    {
      "cell_type": "markdown",
      "metadata": {},
      "source": [
        "### 7. Margin Factor"
      ]
    },
    {
      "cell_type": "code",
      "execution_count": null,
      "metadata": {},
      "outputs": [],
      "source": [
        "columns_to_plot = ['X_Rolling Margin Factor', 'Y_Rolling Margin Factor', 'Z_Rolling Margin Factor']\n",
        "\n",
        "# Call the function to visualize these columns\n",
        "plot_selected_columns(df, process='OP06', machine='M01', columns_to_plot=columns_to_plot, decimation_factor=1)"
      ]
    },
    {
      "cell_type": "markdown",
      "metadata": {},
      "source": [
        "### 8. Rolling Skewness"
      ]
    },
    {
      "cell_type": "code",
      "execution_count": null,
      "metadata": {},
      "outputs": [],
      "source": [
        "columns_to_plot = ['X_Rolling Skewness', 'Y_Rolling Skewness', 'Z_Rolling Skewness']\n",
        "\n",
        "# Call the function to visualize these columns\n",
        "plot_selected_columns(df, process='OP06', machine='M01', columns_to_plot=columns_to_plot, decimation_factor=1)"
      ]
    },
    {
      "cell_type": "markdown",
      "metadata": {},
      "source": [
        "### 8. Wavelet"
      ]
    },
    {
      "cell_type": "code",
      "execution_count": null,
      "metadata": {},
      "outputs": [],
      "source": [
        "columns_to_plot = ['X_D1', 'Y_D1', 'Z_D1']\n",
        "\n",
        "# Call the function to visualize these columns\n",
        "plot_selected_columns(df, process='OP06', machine='M01', columns_to_plot=columns_to_plot, decimation_factor=1)"
      ]
    },
    {
      "cell_type": "markdown",
      "metadata": {},
      "source": [
        "### 9. Jerk"
      ]
    },
    {
      "cell_type": "code",
      "execution_count": null,
      "metadata": {},
      "outputs": [],
      "source": [
        "columns_to_plot = ['X_Jerk', 'Y_Jerk', 'Z_Jerk']\n",
        "\n",
        "# Call the function to visualize these columns\n",
        "plot_selected_columns(df, process='OP06', machine='M01', columns_to_plot=columns_to_plot, decimation_factor=1)"
      ]
    },
    {
      "cell_type": "code",
      "execution_count": null,
      "metadata": {},
      "outputs": [],
      "source": [
        "# Visualy selected features - free-style\n",
        "\n",
        "selected_columns = ['Time', 'Month', 'Year', 'Machine', 'Process', 'Label', 'Unique_Code',\n",
        "       'Period', 'X_X_axis', 'X_Rolling Mean', 'X_Rolling Median',\n",
        "       'X_Rolling Variance', 'X_Rolling Skewness', 'X_Rolling Impulse Factor',\n",
        "       'X_Rolling Margin Factor', 'Y_Y_axis', 'Y_Rolling Mean', 'Y_Rolling Median',\n",
        "       'Y_Rolling Variance', 'Y_Rolling Skewness','Y_Rolling Impulse Factor',\n",
        "       'Y_Rolling Margin Factor', 'Z_Z_axis', 'Z_Rolling Mean',\n",
        "       'Z_Rolling Median','Z_Rolling Variance', 'Z_Rolling Skewness', \n",
        "        'Z_Rolling Impulse Factor','Z_Rolling Margin Factor']\n"
      ]
    },
    {
      "cell_type": "code",
      "execution_count": null,
      "metadata": {},
      "outputs": [],
      "source": [
        "import plotly.express as px\n",
        "\n",
        "def plot_scatter_matrix(df, machine, process, cols, sample_frac=0.05, random_state=0):\n",
        "    \"\"\"\n",
        "    Plots a scatter matrix for specified columns for a given process and machine in a DataFrame,\n",
        "    highlighting different 'Unique_Code' values.\n",
        "\n",
        "    Parameters:\n",
        "    - df: DataFrame containing the data.\n",
        "    - machine: String representing the machine to filter by.\n",
        "    - process: String representing the process to filter by.\n",
        "    - cols: List of column names to include in the scatter matrix.\n",
        "    - sample_frac: Fraction of the DataFrame to sample (default 0.05).\n",
        "    - random_state: Seed for random number generation (default 0).\n",
        "    \"\"\"\n",
        "\n",
        "    # Filter data by machine and process\n",
        "    df_filtered = df[(df['Machine'] == machine) & (df['Process'] == process)]\n",
        "\n",
        "    # Ensure only columns that exist in the DataFrame are used\n",
        "    cols = [col for col in cols if col in df_filtered.columns]\n",
        "\n",
        "    # Determine the column order for 'Unique_Code'\n",
        "    unique_code_order = df_filtered['Unique_Code'].unique()\n",
        "\n",
        "    # Create the scatter matrix\n",
        "    fig = px.scatter_matrix(df_filtered.sample(frac=sample_frac, random_state=random_state),\n",
        "                            dimensions=cols, color='Unique_Code',\n",
        "                            category_orders={'Unique_Code': list(unique_code_order)})\n",
        "\n",
        "    # Update layout\n",
        "    fig.update_layout(width=1200, height=800, legend_title_font_size=22)\n",
        "\n",
        "    # Update trace characteristics\n",
        "    fig.update_traces(marker=dict(size=5), diagonal_visible=False, showupperhalf=False)\n",
        "\n",
        "    # Display the figure\n",
        "    fig.show()"
      ]
    },
    {
      "cell_type": "code",
      "execution_count": null,
      "metadata": {},
      "outputs": [],
      "source": [
        "selected_columns = ['X_axis', 'Y_axis', 'Z_axis']\n",
        "plot_scatter_matrix(df, machine='M01', process='OP06', cols=selected_columns, sample_frac=0.2, random_state=42)"
      ]
    }
  ],
  "metadata": {
    "accelerator": "GPU",
    "colab": {
      "collapsed_sections": [],
      "name": "chord-bragato.ipynb",
      "provenance": []
    },
    "kernelspec": {
      "display_name": "Python 3.9.12 ('gputest3')",
      "language": "python",
      "name": "python3"
    },
    "language_info": {
      "codemirror_mode": {
        "name": "ipython",
        "version": 3
      },
      "file_extension": ".py",
      "mimetype": "text/x-python",
      "name": "python",
      "nbconvert_exporter": "python",
      "pygments_lexer": "ipython3",
      "version": "3.8.18"
    },
    "vscode": {
      "interpreter": {
        "hash": "a8a0b88a388d3e076f2a934657bedc7e70d212269d14ee7385687e102196c370"
      }
    }
  },
  "nbformat": 4,
  "nbformat_minor": 2
}

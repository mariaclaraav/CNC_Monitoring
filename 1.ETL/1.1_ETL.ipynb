{
 "cells": [
  {
   "cell_type": "code",
   "execution_count": null,
   "metadata": {
    "pycharm": {
     "name": "#%%\n"
    }
   },
   "outputs": [],
   "source": [
    "import os\n",
    "import sys\n",
    "sys.path.append('..')\n",
    "sys.path.append('../utils/')\n",
    "import pandas as pd\n",
    "import numpy as np\n",
    "from tqdm import tqdm \n",
    "from utils import data_loader_utils"
   ]
  },
  {
   "cell_type": "code",
   "execution_count": null,
   "metadata": {
    "pycharm": {
     "name": "#%%\n"
    }
   },
   "outputs": [],
   "source": [
    "machines = [\"M01\",\"M02\",\"M03\"]\n",
    "process_names = [\"OP00\",\"OP01\",\"OP02\",\"OP03\",\"OP04\",\"OP05\",\"OP06\",\"OP07\",\"OP08\",\"OP09\",\"OP10\",\"OP11\",\"OP12\",\"OP13\",\"OP14\"]\n",
    "labels = [\"good\",\"bad\"]\n",
    "path_to_dataset = \"./Datasets/Raw/\""
   ]
  },
  {
   "cell_type": "code",
   "execution_count": null,
   "metadata": {},
   "outputs": [],
   "source": [
    "dfs = []\n",
    "file_count = 0  # Contador para o número de arquivos lidos\n",
    "\n",
    "# Sampling frequency is 2kHz\n",
    "freq = 2000\n",
    "\n",
    "# Wrap the outermost loop with tqdm for the progress bar\n",
    "for process_name in tqdm(process_names, desc=\"Loading files\"):\n",
    "    for machine in machines:\n",
    "        for label in labels:\n",
    "            data_path = os.path.join(path_to_dataset, machine, process_name, label)\n",
    "            data_list, label_list = data_loader_utils.load_tool_research_data(data_path, label=label, add_additional_label=True, verbose=False)\n",
    "            \n",
    "            for data, full_label in zip(data_list, label_list):\n",
    "                file_count += 1  # Incrementando a contagem de arquivos\n",
    "                \n",
    "                parts = full_label.split('_')                \n",
    "                month = parts[1]  # 'Aug'\n",
    "                year = parts[2]  # '2019'\n",
    "                \n",
    "                # Generating a unique code for the file, using the file count instead of sample_id\n",
    "                unique_code = f\"{machine}_{process_name}_{month}_{year}_{file_count}\"\n",
    "                \n",
    "                # Create time based on sampling frequency\n",
    "                time = np.linspace(0, len(data) / freq, len(data), endpoint=False)\n",
    "                \n",
    "                # Create a DataFrame with the vibration data and time\n",
    "                df = pd.DataFrame(data, columns=['X_axis', 'Y_axis', 'Z_axis'])\n",
    "                df['Time'] = time\n",
    "                df['Machine'] = machine\n",
    "                df['Process'] = process_name\n",
    "                df['Label'] = label\n",
    "                df['Month'] = month\n",
    "                df['Year'] = year\n",
    "                df['Unique_Code'] = unique_code\n",
    "                \n",
    "                dfs.append(df)\n",
    "\n",
    "final_df = pd.concat(dfs, ignore_index=True)\n",
    "\n",
    "# Imprimindo o número de arquivos lidos e a quantidade de códigos únicos\n",
    "print(f\"Number of files read: {file_count}\")\n",
    "print(f\"Number of unique codes: {final_df['Unique_Code'].nunique()}\")"
   ]
  },
  {
   "cell_type": "code",
   "execution_count": null,
   "metadata": {},
   "outputs": [],
   "source": [
    "for name in dir():\n",
    "    if not name.startswith('_') and name != 'final_df' and name != 'pd' and name != 'tqdm':\n",
    "        del globals()[name]"
   ]
  },
  {
   "cell_type": "code",
   "execution_count": null,
   "metadata": {},
   "outputs": [],
   "source": [
    "final_df"
   ]
  },
  {
   "cell_type": "code",
   "execution_count": null,
   "metadata": {},
   "outputs": [],
   "source": [
    "final_df['Year'] = final_df['Year'].astype(str)\n",
    "\n",
    "final_df['Period'] = final_df['Month'] + '-' + final_df['Year']\n",
    "\n",
    "final_df['Year'] = final_df['Year'].astype(int)\n",
    "\n",
    "final_df['Period_Num'] = pd.to_datetime(final_df['Period'], format='%b-%Y')"
   ]
  },
  {
   "cell_type": "code",
   "execution_count": null,
   "metadata": {},
   "outputs": [],
   "source": [
    "final_df = final_df.sort_values(by = ['Period_Num', 'Unique_Code','Time'])\n",
    "final_df"
   ]
  },
  {
   "cell_type": "code",
   "execution_count": null,
   "metadata": {},
   "outputs": [],
   "source": [
    "#final_df['Year'] = final_df['Year'].astype(str)"
   ]
  },
  {
   "cell_type": "code",
   "execution_count": null,
   "metadata": {},
   "outputs": [],
   "source": [
    "#final_df['Code'] = final_df['Machine'] + '_' + final_df['Process'] + '_' + final_df['Month'] + '_' + final_df['Year']"
   ]
  },
  {
   "cell_type": "code",
   "execution_count": null,
   "metadata": {},
   "outputs": [],
   "source": [
    "#final_df['Code'] = final_df['Machine'] + '_' + final_df['Process'] + '_' + final_df['Month'] + '_' + final_df['Year']\n",
    "\n",
    "# Criar um contador dentro de cada grupo\n",
    "#final_df['count'] = final_df.groupby('Code').cumcount() + 1\n",
    "\n",
    "# Atualizar o 'Unique_Code' para incluir este contador\n",
    "#final_df['Unique_Code'] = final_df['Code'] + '_' + final_df['count'].astype(str)\n",
    "\n",
    "#final_df['Unique_Code'].nunique()"
   ]
  },
  {
   "cell_type": "code",
   "execution_count": null,
   "metadata": {},
   "outputs": [],
   "source": [
    "final_df"
   ]
  },
  {
   "cell_type": "code",
   "execution_count": null,
   "metadata": {},
   "outputs": [],
   "source": [
    "final_df.reset_index(drop=True, inplace=True)\n",
    "final_df"
   ]
  },
  {
   "cell_type": "code",
   "execution_count": null,
   "metadata": {},
   "outputs": [],
   "source": [
    "final_df['Label'].replace({'good': 0, 'bad': 1}, inplace=True)"
   ]
  },
  {
   "cell_type": "code",
   "execution_count": null,
   "metadata": {},
   "outputs": [],
   "source": [
    "# Reordenando as colunas\n",
    "final_df = final_df[['Time', 'Month', 'Year', 'Machine', 'Process', 'X_axis', 'Y_axis', 'Z_axis', 'Label','Unique_Code','Period']]"
   ]
  },
  {
   "cell_type": "code",
   "execution_count": null,
   "metadata": {},
   "outputs": [],
   "source": [
    "final_df"
   ]
  },
  {
   "cell_type": "code",
   "execution_count": null,
   "metadata": {},
   "outputs": [],
   "source": [
    "path_to_save_parquet = 'Datasets/Processed/ETL1.parquet'\n",
    "final_df.to_parquet(path_to_save_parquet)"
   ]
  }
 ],
 "metadata": {
  "kernelspec": {
   "display_name": "Python 3",
   "language": "python",
   "name": "python3"
  },
  "language_info": {
   "codemirror_mode": {
    "name": "ipython",
    "version": 3
   },
   "file_extension": ".py",
   "mimetype": "text/x-python",
   "name": "python",
   "nbconvert_exporter": "python",
   "pygments_lexer": "ipython3",
   "version": "3.8.18"
  }
 },
 "nbformat": 4,
 "nbformat_minor": 4
}
